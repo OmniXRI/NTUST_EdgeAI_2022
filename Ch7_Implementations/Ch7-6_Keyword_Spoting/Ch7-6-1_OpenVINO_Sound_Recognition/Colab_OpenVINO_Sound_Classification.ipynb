{
  "nbformat": 4,
  "nbformat_minor": 0,
  "metadata": {
    "colab": {
      "name": "Colab_OpenVINO_Sound_Classification.ipynb",
      "provenance": [],
      "collapsed_sections": []
    },
    "kernelspec": {
      "name": "python3",
      "display_name": "Python 3"
    },
    "language_info": {
      "name": "python"
    }
  },
  "cells": [
    {
      "cell_type": "markdown",
      "metadata": {
        "id": "uRxPmoe1uOvA"
      },
      "source": [
        "# Google Colab OpenVINO Pretrained Model 聲音辨識範例程式\n",
        "\n",
        "使用OpenVINO及預訓練模型aclnet進行聲音辨識，可分辨ESC-50公開資料集中的50種聲音。  \n",
        "歐尼克斯實境互動工作室 OmniXRI Jack, 2022.05.24 整理製作  "
      ]
    },
    {
      "cell_type": "markdown",
      "metadata": {
        "id": "zmElETF8uOkf"
      },
      "source": [
        "#1. 安裝Intel OpenVINO工具包\n",
        "以apt方式安裝OpenVINO，安裝版本為 2021.4.572  \n",
        "預設安裝路徑為/opt/intel/OpenVINO_2021.4.572，系統會自建出/opt/intel/ OpenVINO_2021捷徑名稱，後續可使用這個較短捷徑名稱。  \n",
        "若想安裝其它版本，可透過下列指令進行查詢。  \n",
        "!apt-cache search intel-openvino"
      ]
    },
    {
      "cell_type": "code",
      "metadata": {
        "id": "6faCST5KuHqD",
        "colab": {
          "base_uri": "https://localhost:8080/"
        },
        "outputId": "395761d4-dd55-4c3e-b7aa-4a73b0922450"
      },
      "source": [
        "# 顯示目前工作目錄\n",
        "!pwd\n",
        "# 取得OpenVINO 2021公開金錀\n",
        "!wget https://apt.repos.intel.com/openvino/2021/GPG-PUB-KEY-INTEL-OPENVINO-2021 \n",
        "# 加入OpenVINO公開金錀到系統金錀群中\n",
        "!apt-key add GPG-PUB-KEY-INTEL-OPENVINO-2021 \n",
        "# 建立更新安裝清單檔案\n",
        "!touch /etc/apt/sources.list.d/intel-openvino-2021.list\n",
        "# 將下載指令加入安裝清單中\n",
        "!echo \"deb https://apt.repos.intel.com/openvino/2021 all main\" >> /etc/apt/sources.list.d/intel-openvino-2021.list\n",
        "# 更新系統\n",
        "!apt update\n",
        "# 安裝OpenVINO到虛擬機系統中\n",
        "!apt install intel-openvino-dev-ubuntu18-2021.4.752\n",
        "# 列出安裝路徑下內容進行確認\n",
        "!ls /opt/intel"
      ],
      "execution_count": 1,
      "outputs": [
        {
          "output_type": "stream",
          "name": "stdout",
          "text": [
            "/content\n",
            "--2022-05-24 15:13:43--  https://apt.repos.intel.com/openvino/2021/GPG-PUB-KEY-INTEL-OPENVINO-2021\n",
            "Resolving apt.repos.intel.com (apt.repos.intel.com)... 23.66.220.116, 2600:1408:c400:397::4b23, 2600:1408:c400:392::4b23\n",
            "Connecting to apt.repos.intel.com (apt.repos.intel.com)|23.66.220.116|:443... connected.\n",
            "HTTP request sent, awaiting response... 200 OK\n",
            "Length: 939 [binary/octet-stream]\n",
            "Saving to: ‘GPG-PUB-KEY-INTEL-OPENVINO-2021’\n",
            "\n",
            "GPG-PUB-KEY-INTEL-O 100%[===================>]     939  --.-KB/s    in 0s      \n",
            "\n",
            "2022-05-24 15:13:44 (113 MB/s) - ‘GPG-PUB-KEY-INTEL-OPENVINO-2021’ saved [939/939]\n",
            "\n",
            "OK\n",
            "Get:1 https://cloud.r-project.org/bin/linux/ubuntu bionic-cran40/ InRelease [3,626 B]\n",
            "Get:2 https://developer.download.nvidia.com/compute/cuda/repos/ubuntu1804/x86_64  InRelease [1,581 B]\n",
            "Get:3 https://apt.repos.intel.com/openvino/2021 all InRelease [5,659 B]\n",
            "Hit:4 http://ppa.launchpad.net/c2d4u.team/c2d4u4.0+/ubuntu bionic InRelease\n",
            "Hit:5 http://archive.ubuntu.com/ubuntu bionic InRelease\n",
            "Get:6 http://security.ubuntu.com/ubuntu bionic-security InRelease [88.7 kB]\n",
            "Ign:7 https://developer.download.nvidia.com/compute/machine-learning/repos/ubuntu1804/x86_64  InRelease\n",
            "Hit:8 https://developer.download.nvidia.com/compute/machine-learning/repos/ubuntu1804/x86_64  Release\n",
            "Get:9 http://archive.ubuntu.com/ubuntu bionic-updates InRelease [88.7 kB]\n",
            "Hit:10 http://ppa.launchpad.net/cran/libgit2/ubuntu bionic InRelease\n",
            "Get:11 https://developer.download.nvidia.com/compute/cuda/repos/ubuntu1804/x86_64  Packages [787 kB]\n",
            "Get:12 http://ppa.launchpad.net/deadsnakes/ppa/ubuntu bionic InRelease [15.9 kB]\n",
            "Get:13 http://archive.ubuntu.com/ubuntu bionic-backports InRelease [74.6 kB]\n",
            "Get:14 http://ppa.launchpad.net/graphics-drivers/ppa/ubuntu bionic InRelease [21.3 kB]\n",
            "Get:15 https://apt.repos.intel.com/openvino/2021 all/main all Packages [3,585 B]\n",
            "Get:16 https://apt.repos.intel.com/openvino/2021 all/main amd64 Packages [29.3 kB]\n",
            "Get:18 http://security.ubuntu.com/ubuntu bionic-security/universe amd64 Packages [1,503 kB]\n",
            "Get:19 http://archive.ubuntu.com/ubuntu bionic-updates/main amd64 Packages [3,214 kB]\n",
            "Get:20 http://security.ubuntu.com/ubuntu bionic-security/main amd64 Packages [2,779 kB]\n",
            "Get:21 http://ppa.launchpad.net/deadsnakes/ppa/ubuntu bionic/main amd64 Packages [45.3 kB]\n",
            "Get:22 http://security.ubuntu.com/ubuntu bionic-security/multiverse amd64 Packages [22.8 kB]\n",
            "Get:23 http://security.ubuntu.com/ubuntu bionic-security/restricted amd64 Packages [949 kB]\n",
            "Get:24 http://archive.ubuntu.com/ubuntu bionic-updates/multiverse amd64 Packages [29.8 kB]\n",
            "Get:25 http://archive.ubuntu.com/ubuntu bionic-updates/universe amd64 Packages [2,277 kB]\n",
            "Get:26 http://archive.ubuntu.com/ubuntu bionic-updates/restricted amd64 Packages [983 kB]\n",
            "Get:27 http://ppa.launchpad.net/graphics-drivers/ppa/ubuntu bionic/main amd64 Packages [44.3 kB]\n",
            "Fetched 13.0 MB in 3s (3,862 kB/s)\n",
            "Reading package lists... Done\n",
            "Building dependency tree       \n",
            "Reading state information... Done\n",
            "50 packages can be upgraded. Run 'apt list --upgradable' to see them.\n",
            "Reading package lists... Done\n",
            "Building dependency tree       \n",
            "Reading state information... Done\n",
            "The following package was automatically installed and is no longer required:\n",
            "  libnvidia-common-460\n",
            "Use 'apt autoremove' to remove it.\n",
            "The following additional packages will be installed:\n",
            "  intel-openvino-dl-workbench-2021.4.752 intel-openvino-docs-2021.4.752\n",
            "  intel-openvino-eula-2021.4.752\n",
            "  intel-openvino-gstreamer-rt-ubuntu-bionic-2021.4.752\n",
            "  intel-openvino-gva-dev-ubuntu-bionic-2021.4.752\n",
            "  intel-openvino-gva-rt-ubuntu-bionic-2021.4.752\n",
            "  intel-openvino-gva-sdk-2021.4.752\n",
            "  intel-openvino-ie-bin-python-tools-ubuntu-bionic-2021.4.752\n",
            "  intel-openvino-ie-rt-2021.4.752\n",
            "  intel-openvino-ie-rt-core-ubuntu-bionic-2021.4.752\n",
            "  intel-openvino-ie-rt-cpu-ubuntu-bionic-2021.4.752\n",
            "  intel-openvino-ie-rt-gna-ubuntu-bionic-2021.4.752\n",
            "  intel-openvino-ie-rt-gpu-ubuntu-bionic-2021.4.752\n",
            "  intel-openvino-ie-rt-hddl-ubuntu-bionic-2021.4.752\n",
            "  intel-openvino-ie-rt-vpu-ubuntu-bionic-2021.4.752\n",
            "  intel-openvino-ie-samples-2021.4.752\n",
            "  intel-openvino-ie-sdk-ubuntu-bionic-2021.4.752\n",
            "  intel-openvino-model-optimizer-2021.4.752 intel-openvino-omz-dev-2021.4.752\n",
            "  intel-openvino-omz-tools-2021.4.752 intel-openvino-opencv-etc-2021.4.752\n",
            "  intel-openvino-opencv-generic-2021.4.752\n",
            "  intel-openvino-opencv-lib-ubuntu-bionic-2021.4.752\n",
            "  intel-openvino-pot-2021.4.752 intel-openvino-setupvars-2021.4.752\n",
            "The following NEW packages will be installed:\n",
            "  intel-openvino-dev-ubuntu18-2021.4.752\n",
            "  intel-openvino-dl-workbench-2021.4.752 intel-openvino-docs-2021.4.752\n",
            "  intel-openvino-eula-2021.4.752\n",
            "  intel-openvino-gstreamer-rt-ubuntu-bionic-2021.4.752\n",
            "  intel-openvino-gva-dev-ubuntu-bionic-2021.4.752\n",
            "  intel-openvino-gva-rt-ubuntu-bionic-2021.4.752\n",
            "  intel-openvino-gva-sdk-2021.4.752\n",
            "  intel-openvino-ie-bin-python-tools-ubuntu-bionic-2021.4.752\n",
            "  intel-openvino-ie-rt-2021.4.752\n",
            "  intel-openvino-ie-rt-core-ubuntu-bionic-2021.4.752\n",
            "  intel-openvino-ie-rt-cpu-ubuntu-bionic-2021.4.752\n",
            "  intel-openvino-ie-rt-gna-ubuntu-bionic-2021.4.752\n",
            "  intel-openvino-ie-rt-gpu-ubuntu-bionic-2021.4.752\n",
            "  intel-openvino-ie-rt-hddl-ubuntu-bionic-2021.4.752\n",
            "  intel-openvino-ie-rt-vpu-ubuntu-bionic-2021.4.752\n",
            "  intel-openvino-ie-samples-2021.4.752\n",
            "  intel-openvino-ie-sdk-ubuntu-bionic-2021.4.752\n",
            "  intel-openvino-model-optimizer-2021.4.752 intel-openvino-omz-dev-2021.4.752\n",
            "  intel-openvino-omz-tools-2021.4.752 intel-openvino-opencv-etc-2021.4.752\n",
            "  intel-openvino-opencv-generic-2021.4.752\n",
            "  intel-openvino-opencv-lib-ubuntu-bionic-2021.4.752\n",
            "  intel-openvino-pot-2021.4.752 intel-openvino-setupvars-2021.4.752\n",
            "0 upgraded, 26 newly installed, 0 to remove and 50 not upgraded.\n",
            "Need to get 299 MB of archives.\n",
            "After this operation, 0 B of additional disk space will be used.\n",
            "Get:1 https://apt.repos.intel.com/openvino/2021 all/main amd64 intel-openvino-eula-2021.4.752 all 2021.4-752 [59.8 kB]\n",
            "Get:2 https://apt.repos.intel.com/openvino/2021 all/main amd64 intel-openvino-setupvars-2021.4.752 all 2021.4-752 [11.8 kB]\n",
            "Get:3 https://apt.repos.intel.com/openvino/2021 all/main amd64 intel-openvino-docs-2021.4.752 all 2021.4-752 [1,952 B]\n",
            "Get:4 https://apt.repos.intel.com/openvino/2021 all/main amd64 intel-openvino-ie-samples-2021.4.752 amd64 2021.4-752 [3,026 kB]\n",
            "Get:5 https://apt.repos.intel.com/openvino/2021 all/main amd64 intel-openvino-model-optimizer-2021.4.752 amd64 2021.4-752 [493 kB]\n",
            "Get:6 https://apt.repos.intel.com/openvino/2021 all/main amd64 intel-openvino-ie-bin-python-tools-ubuntu-bionic-2021.4.752 amd64 2021.4-752 [20.6 kB]\n",
            "Get:7 https://apt.repos.intel.com/openvino/2021 all/main amd64 intel-openvino-ie-sdk-ubuntu-bionic-2021.4.752 amd64 2021.4-752 [881 kB]\n",
            "Get:8 https://apt.repos.intel.com/openvino/2021 all/main amd64 intel-openvino-ie-rt-2021.4.752 amd64 2021.4-752 [623 kB]\n",
            "Get:9 https://apt.repos.intel.com/openvino/2021 all/main amd64 intel-openvino-ie-rt-core-ubuntu-bionic-2021.4.752 amd64 2021.4-752 [4,794 kB]\n",
            "Get:10 https://apt.repos.intel.com/openvino/2021 all/main amd64 intel-openvino-ie-rt-cpu-ubuntu-bionic-2021.4.752 amd64 2021.4-752 [4,653 kB]\n",
            "Get:11 https://apt.repos.intel.com/openvino/2021 all/main amd64 intel-openvino-ie-rt-gpu-ubuntu-bionic-2021.4.752 amd64 2021.4-752 [2,356 kB]\n",
            "Get:12 https://apt.repos.intel.com/openvino/2021 all/main amd64 intel-openvino-ie-rt-gna-ubuntu-bionic-2021.4.752 amd64 2021.4-752 [1,234 kB]\n",
            "Get:13 https://apt.repos.intel.com/openvino/2021 all/main amd64 intel-openvino-ie-rt-vpu-ubuntu-bionic-2021.4.752 amd64 2021.4-752 [21.7 MB]\n",
            "Get:14 https://apt.repos.intel.com/openvino/2021 all/main amd64 intel-openvino-ie-rt-hddl-ubuntu-bionic-2021.4.752 amd64 2021.4-752 [3,098 kB]\n",
            "Get:15 https://apt.repos.intel.com/openvino/2021 all/main amd64 intel-openvino-opencv-generic-2021.4.752 all 2021.4-752 [799 kB]\n",
            "Get:16 https://apt.repos.intel.com/openvino/2021 all/main amd64 intel-openvino-opencv-lib-ubuntu-bionic-2021.4.752 amd64 2021.4-752 [17.0 MB]\n",
            "Get:17 https://apt.repos.intel.com/openvino/2021 all/main amd64 intel-openvino-opencv-etc-2021.4.752 all 2021.4-752 [1,213 kB]\n",
            "Get:18 https://apt.repos.intel.com/openvino/2021 all/main amd64 intel-openvino-omz-dev-2021.4.752 amd64 2021.4-752 [149 MB]\n",
            "Get:19 https://apt.repos.intel.com/openvino/2021 all/main amd64 intel-openvino-omz-tools-2021.4.752 amd64 2021.4-752 [3,521 kB]\n",
            "Get:20 https://apt.repos.intel.com/openvino/2021 all/main amd64 intel-openvino-dl-workbench-2021.4.752 amd64 2021.4-752 [4,662 B]\n",
            "Get:21 https://apt.repos.intel.com/openvino/2021 all/main amd64 intel-openvino-gva-sdk-2021.4.752 amd64 2021.4-752 [95.5 kB]\n",
            "Get:22 https://apt.repos.intel.com/openvino/2021 all/main amd64 intel-openvino-gva-dev-ubuntu-bionic-2021.4.752 amd64 2021.4-752 [14.3 MB]\n",
            "Get:23 https://apt.repos.intel.com/openvino/2021 all/main amd64 intel-openvino-gstreamer-rt-ubuntu-bionic-2021.4.752 amd64 2021.4-752 [68.2 MB]\n",
            "Get:24 https://apt.repos.intel.com/openvino/2021 all/main amd64 intel-openvino-gva-rt-ubuntu-bionic-2021.4.752 amd64 2021.4-752 [1,168 kB]\n",
            "Get:25 https://apt.repos.intel.com/openvino/2021 all/main amd64 intel-openvino-pot-2021.4.752 amd64 2021.4-752 [586 kB]\n",
            "Get:26 https://apt.repos.intel.com/openvino/2021 all/main amd64 intel-openvino-dev-ubuntu18-2021.4.752 amd64 2021.4-752 [1,840 B]\n",
            "Fetched 299 MB in 36s (8,347 kB/s)\n",
            "Selecting previously unselected package intel-openvino-eula-2021.4.752.\n",
            "(Reading database ... 155629 files and directories currently installed.)\n",
            "Preparing to unpack .../00-intel-openvino-eula-2021.4.752_2021.4-752_all.deb ...\n",
            "Unpacking intel-openvino-eula-2021.4.752 (2021.4-752) ...\n",
            "Selecting previously unselected package intel-openvino-setupvars-2021.4.752.\n",
            "Preparing to unpack .../01-intel-openvino-setupvars-2021.4.752_2021.4-752_all.deb ...\n",
            "Unpacking intel-openvino-setupvars-2021.4.752 (2021.4-752) ...\n",
            "Selecting previously unselected package intel-openvino-docs-2021.4.752.\n",
            "Preparing to unpack .../02-intel-openvino-docs-2021.4.752_2021.4-752_all.deb ...\n",
            "Unpacking intel-openvino-docs-2021.4.752 (2021.4-752) ...\n",
            "Selecting previously unselected package intel-openvino-ie-samples-2021.4.752:amd64.\n",
            "Preparing to unpack .../03-intel-openvino-ie-samples-2021.4.752_2021.4-752_amd64.deb ...\n",
            "Unpacking intel-openvino-ie-samples-2021.4.752:amd64 (2021.4-752) ...\n",
            "Selecting previously unselected package intel-openvino-model-optimizer-2021.4.752:amd64.\n",
            "Preparing to unpack .../04-intel-openvino-model-optimizer-2021.4.752_2021.4-752_amd64.deb ...\n",
            "Unpacking intel-openvino-model-optimizer-2021.4.752:amd64 (2021.4-752) ...\n",
            "Selecting previously unselected package intel-openvino-ie-bin-python-tools-ubuntu-bionic-2021.4.752:amd64.\n",
            "Preparing to unpack .../05-intel-openvino-ie-bin-python-tools-ubuntu-bionic-2021.4.752_2021.4-752_amd64.deb ...\n",
            "Unpacking intel-openvino-ie-bin-python-tools-ubuntu-bionic-2021.4.752:amd64 (2021.4-752) ...\n",
            "Selecting previously unselected package intel-openvino-ie-sdk-ubuntu-bionic-2021.4.752:amd64.\n",
            "Preparing to unpack .../06-intel-openvino-ie-sdk-ubuntu-bionic-2021.4.752_2021.4-752_amd64.deb ...\n",
            "Unpacking intel-openvino-ie-sdk-ubuntu-bionic-2021.4.752:amd64 (2021.4-752) ...\n",
            "Selecting previously unselected package intel-openvino-ie-rt-2021.4.752:amd64.\n",
            "Preparing to unpack .../07-intel-openvino-ie-rt-2021.4.752_2021.4-752_amd64.deb ...\n",
            "Unpacking intel-openvino-ie-rt-2021.4.752:amd64 (2021.4-752) ...\n",
            "Selecting previously unselected package intel-openvino-ie-rt-core-ubuntu-bionic-2021.4.752:amd64.\n",
            "Preparing to unpack .../08-intel-openvino-ie-rt-core-ubuntu-bionic-2021.4.752_2021.4-752_amd64.deb ...\n",
            "Unpacking intel-openvino-ie-rt-core-ubuntu-bionic-2021.4.752:amd64 (2021.4-752) ...\n",
            "Selecting previously unselected package intel-openvino-ie-rt-cpu-ubuntu-bionic-2021.4.752:amd64.\n",
            "Preparing to unpack .../09-intel-openvino-ie-rt-cpu-ubuntu-bionic-2021.4.752_2021.4-752_amd64.deb ...\n",
            "Unpacking intel-openvino-ie-rt-cpu-ubuntu-bionic-2021.4.752:amd64 (2021.4-752) ...\n",
            "Selecting previously unselected package intel-openvino-ie-rt-gpu-ubuntu-bionic-2021.4.752:amd64.\n",
            "Preparing to unpack .../10-intel-openvino-ie-rt-gpu-ubuntu-bionic-2021.4.752_2021.4-752_amd64.deb ...\n",
            "Unpacking intel-openvino-ie-rt-gpu-ubuntu-bionic-2021.4.752:amd64 (2021.4-752) ...\n",
            "Selecting previously unselected package intel-openvino-ie-rt-gna-ubuntu-bionic-2021.4.752:amd64.\n",
            "Preparing to unpack .../11-intel-openvino-ie-rt-gna-ubuntu-bionic-2021.4.752_2021.4-752_amd64.deb ...\n",
            "Unpacking intel-openvino-ie-rt-gna-ubuntu-bionic-2021.4.752:amd64 (2021.4-752) ...\n",
            "Selecting previously unselected package intel-openvino-ie-rt-vpu-ubuntu-bionic-2021.4.752:amd64.\n",
            "Preparing to unpack .../12-intel-openvino-ie-rt-vpu-ubuntu-bionic-2021.4.752_2021.4-752_amd64.deb ...\n",
            "Unpacking intel-openvino-ie-rt-vpu-ubuntu-bionic-2021.4.752:amd64 (2021.4-752) ...\n",
            "Selecting previously unselected package intel-openvino-ie-rt-hddl-ubuntu-bionic-2021.4.752:amd64.\n",
            "Preparing to unpack .../13-intel-openvino-ie-rt-hddl-ubuntu-bionic-2021.4.752_2021.4-752_amd64.deb ...\n",
            "Unpacking intel-openvino-ie-rt-hddl-ubuntu-bionic-2021.4.752:amd64 (2021.4-752) ...\n",
            "Selecting previously unselected package intel-openvino-opencv-generic-2021.4.752.\n",
            "Preparing to unpack .../14-intel-openvino-opencv-generic-2021.4.752_2021.4-752_all.deb ...\n",
            "Unpacking intel-openvino-opencv-generic-2021.4.752 (2021.4-752) ...\n",
            "Selecting previously unselected package intel-openvino-opencv-lib-ubuntu-bionic-2021.4.752:amd64.\n",
            "Preparing to unpack .../15-intel-openvino-opencv-lib-ubuntu-bionic-2021.4.752_2021.4-752_amd64.deb ...\n",
            "Unpacking intel-openvino-opencv-lib-ubuntu-bionic-2021.4.752:amd64 (2021.4-752) ...\n",
            "Selecting previously unselected package intel-openvino-opencv-etc-2021.4.752.\n",
            "Preparing to unpack .../16-intel-openvino-opencv-etc-2021.4.752_2021.4-752_all.deb ...\n",
            "Unpacking intel-openvino-opencv-etc-2021.4.752 (2021.4-752) ...\n",
            "Selecting previously unselected package intel-openvino-omz-dev-2021.4.752:amd64.\n",
            "Preparing to unpack .../17-intel-openvino-omz-dev-2021.4.752_2021.4-752_amd64.deb ...\n",
            "Unpacking intel-openvino-omz-dev-2021.4.752:amd64 (2021.4-752) ...\n",
            "Selecting previously unselected package intel-openvino-omz-tools-2021.4.752:amd64.\n",
            "Preparing to unpack .../18-intel-openvino-omz-tools-2021.4.752_2021.4-752_amd64.deb ...\n",
            "Unpacking intel-openvino-omz-tools-2021.4.752:amd64 (2021.4-752) ...\n",
            "Selecting previously unselected package intel-openvino-dl-workbench-2021.4.752:amd64.\n",
            "Preparing to unpack .../19-intel-openvino-dl-workbench-2021.4.752_2021.4-752_amd64.deb ...\n",
            "Unpacking intel-openvino-dl-workbench-2021.4.752:amd64 (2021.4-752) ...\n",
            "Selecting previously unselected package intel-openvino-gva-sdk-2021.4.752:amd64.\n",
            "Preparing to unpack .../20-intel-openvino-gva-sdk-2021.4.752_2021.4-752_amd64.deb ...\n",
            "Unpacking intel-openvino-gva-sdk-2021.4.752:amd64 (2021.4-752) ...\n",
            "Selecting previously unselected package intel-openvino-gva-dev-ubuntu-bionic-2021.4.752:amd64.\n",
            "Preparing to unpack .../21-intel-openvino-gva-dev-ubuntu-bionic-2021.4.752_2021.4-752_amd64.deb ...\n",
            "Unpacking intel-openvino-gva-dev-ubuntu-bionic-2021.4.752:amd64 (2021.4-752) ...\n",
            "Selecting previously unselected package intel-openvino-gstreamer-rt-ubuntu-bionic-2021.4.752:amd64.\n",
            "Preparing to unpack .../22-intel-openvino-gstreamer-rt-ubuntu-bionic-2021.4.752_2021.4-752_amd64.deb ...\n",
            "Unpacking intel-openvino-gstreamer-rt-ubuntu-bionic-2021.4.752:amd64 (2021.4-752) ...\n",
            "Selecting previously unselected package intel-openvino-gva-rt-ubuntu-bionic-2021.4.752:amd64.\n",
            "Preparing to unpack .../23-intel-openvino-gva-rt-ubuntu-bionic-2021.4.752_2021.4-752_amd64.deb ...\n",
            "Unpacking intel-openvino-gva-rt-ubuntu-bionic-2021.4.752:amd64 (2021.4-752) ...\n",
            "Selecting previously unselected package intel-openvino-pot-2021.4.752:amd64.\n",
            "Preparing to unpack .../24-intel-openvino-pot-2021.4.752_2021.4-752_amd64.deb ...\n",
            "Unpacking intel-openvino-pot-2021.4.752:amd64 (2021.4-752) ...\n",
            "Selecting previously unselected package intel-openvino-dev-ubuntu18-2021.4.752:amd64.\n",
            "Preparing to unpack .../25-intel-openvino-dev-ubuntu18-2021.4.752_2021.4-752_amd64.deb ...\n",
            "Unpacking intel-openvino-dev-ubuntu18-2021.4.752:amd64 (2021.4-752) ...\n",
            "Setting up intel-openvino-gva-rt-ubuntu-bionic-2021.4.752:amd64 (2021.4-752) ...\n",
            "Setting up intel-openvino-gva-sdk-2021.4.752:amd64 (2021.4-752) ...\n",
            "Setting up intel-openvino-eula-2021.4.752 (2021.4-752) ...\n",
            "Setting up intel-openvino-gstreamer-rt-ubuntu-bionic-2021.4.752:amd64 (2021.4-752) ...\n",
            "Setting up intel-openvino-pot-2021.4.752:amd64 (2021.4-752) ...\n",
            "Setting up intel-openvino-ie-samples-2021.4.752:amd64 (2021.4-752) ...\n",
            "Setting up intel-openvino-opencv-etc-2021.4.752 (2021.4-752) ...\n",
            "Setting up intel-openvino-opencv-generic-2021.4.752 (2021.4-752) ...\n",
            "Setting up intel-openvino-opencv-lib-ubuntu-bionic-2021.4.752:amd64 (2021.4-752) ...\n",
            "Setting up intel-openvino-ie-rt-2021.4.752:amd64 (2021.4-752) ...\n",
            "Setting up intel-openvino-dl-workbench-2021.4.752:amd64 (2021.4-752) ...\n",
            "Setting up intel-openvino-omz-dev-2021.4.752:amd64 (2021.4-752) ...\n",
            "Setting up intel-openvino-gva-dev-ubuntu-bionic-2021.4.752:amd64 (2021.4-752) ...\n",
            "Setting up intel-openvino-setupvars-2021.4.752 (2021.4-752) ...\n",
            "Setting up intel-openvino-model-optimizer-2021.4.752:amd64 (2021.4-752) ...\n",
            "Setting up intel-openvino-docs-2021.4.752 (2021.4-752) ...\n",
            "Setting up intel-openvino-ie-sdk-ubuntu-bionic-2021.4.752:amd64 (2021.4-752) ...\n",
            "Setting up intel-openvino-ie-bin-python-tools-ubuntu-bionic-2021.4.752:amd64 (2021.4-752) ...\n",
            "Setting up intel-openvino-omz-tools-2021.4.752:amd64 (2021.4-752) ...\n",
            "Setting up intel-openvino-ie-rt-core-ubuntu-bionic-2021.4.752:amd64 (2021.4-752) ...\n",
            "Setting up intel-openvino-ie-rt-vpu-ubuntu-bionic-2021.4.752:amd64 (2021.4-752) ...\n",
            "Setting up intel-openvino-ie-rt-cpu-ubuntu-bionic-2021.4.752:amd64 (2021.4-752) ...\n",
            "Setting up intel-openvino-ie-rt-gpu-ubuntu-bionic-2021.4.752:amd64 (2021.4-752) ...\n",
            "Setting up intel-openvino-ie-rt-gna-ubuntu-bionic-2021.4.752:amd64 (2021.4-752) ...\n",
            "Setting up intel-openvino-ie-rt-hddl-ubuntu-bionic-2021.4.752:amd64 (2021.4-752) ...\n",
            "Setting up intel-openvino-dev-ubuntu18-2021.4.752:amd64 (2021.4-752) ...\n",
            "openvino_2021  openvino_2021.4.752\n"
          ]
        }
      ]
    },
    {
      "cell_type": "markdown",
      "metadata": {
        "id": "PjNHdKzRxZwJ"
      },
      "source": [
        "#2.下載模型\n",
        "\n",
        "可選用聲音辨識模型為  \n",
        "aclnet  \n",
        "aclnet-int8  \n",
        "\n",
        "這裡選用 --name aclnet （可自行變更所需模型名稱）"
      ]
    },
    {
      "cell_type": "code",
      "metadata": {
        "id": "cwZGZLmSxZ9Z",
        "colab": {
          "base_uri": "https://localhost:8080/"
        },
        "outputId": "227e20d1-150a-4c19-f831-fa12d8e796a5"
      },
      "source": [
        "!source /opt/intel/openvino_2021/bin/setupvars.sh && \\\n",
        "python3 /opt/intel/openvino_2021/deployment_tools/tools/model_downloader/downloader.py --name aclnet\n",
        "\n",
        "!ls public/"
      ],
      "execution_count": 2,
      "outputs": [
        {
          "output_type": "stream",
          "name": "stdout",
          "text": [
            "[setupvars.sh] OpenVINO environment initialized\n",
            "################|| Downloading aclnet ||################\n",
            "\n",
            "========== Downloading /content/public/aclnet/aclnet_des_53.onnx\n",
            "... 100%, 10709 KB, 17935 KB/s, 0 seconds passed\n",
            "\n",
            "aclnet\n"
          ]
        }
      ]
    },
    {
      "cell_type": "markdown",
      "metadata": {
        "id": "ivklmjZay25w"
      },
      "source": [
        "#3.模型轉換\n",
        "\n",
        "如果下載的是Intel Pretrained Model則不需轉換就自帶IR檔(xml,bin)\n",
        "若是Public Pretrained Model則須進行轉換成IR檔，系統會自動判別。\n",
        "--name 參數為待轉換模型名稱"
      ]
    },
    {
      "cell_type": "code",
      "metadata": {
        "id": "ghBaLXY6y3DY",
        "colab": {
          "base_uri": "https://localhost:8080/"
        },
        "outputId": "33f3ad0f-9ddd-442a-d2d0-bf0fba3d7647"
      },
      "source": [
        "# public預訓練模型有使用到ONNX,所以需另外安裝ONNX模組\n",
        "!pip3 install ONNX\n",
        "\n",
        "# 下載及安裝test-generator 方便檢查程式運行錯誤\n",
        "!pip3 install test-generator==0.1.1\n",
        "\n",
        "# 執行環境設定批次檔並將下載到的模型檔進行轉換產生IR(xml & bin)檔\n",
        "!source /opt/intel/openvino_2021/bin/setupvars.sh && \\\n",
        "python3 /opt/intel/openvino_2021/deployment_tools/tools/model_downloader/converter.py \\\n",
        "--name aclnet\n",
        "\n",
        "# 檢查模型轉檔後會產生/FP16, FP32不同精度的IR檔(xml, bin)\n",
        "!ls public/aclnet\n",
        "!ls public/aclnet/FP32"
      ],
      "execution_count": 3,
      "outputs": [
        {
          "output_type": "stream",
          "name": "stdout",
          "text": [
            "Looking in indexes: https://pypi.org/simple, https://us-python.pkg.dev/colab-wheels/public/simple/\n",
            "Collecting ONNX\n",
            "  Downloading onnx-1.11.0-cp37-cp37m-manylinux_2_12_x86_64.manylinux2010_x86_64.whl (12.8 MB)\n",
            "\u001b[K     |████████████████████████████████| 12.8 MB 24.6 MB/s \n",
            "\u001b[?25hRequirement already satisfied: numpy>=1.16.6 in /usr/local/lib/python3.7/dist-packages (from ONNX) (1.21.6)\n",
            "Requirement already satisfied: typing-extensions>=3.6.2.1 in /usr/local/lib/python3.7/dist-packages (from ONNX) (4.2.0)\n",
            "Requirement already satisfied: protobuf>=3.12.2 in /usr/local/lib/python3.7/dist-packages (from ONNX) (3.17.3)\n",
            "Requirement already satisfied: six>=1.9 in /usr/local/lib/python3.7/dist-packages (from protobuf>=3.12.2->ONNX) (1.15.0)\n",
            "Installing collected packages: ONNX\n",
            "Successfully installed ONNX-1.11.0\n",
            "Looking in indexes: https://pypi.org/simple, https://us-python.pkg.dev/colab-wheels/public/simple/\n",
            "Collecting test-generator==0.1.1\n",
            "  Downloading test_generator-0.1.1-py2.py3-none-any.whl (5.5 kB)\n",
            "Requirement already satisfied: six in /usr/local/lib/python3.7/dist-packages (from test-generator==0.1.1) (1.15.0)\n",
            "Installing collected packages: test-generator\n",
            "Successfully installed test-generator-0.1.1\n",
            "[setupvars.sh] OpenVINO environment initialized\n",
            "========== Converting aclnet to IR (FP16)\n",
            "Conversion command: /usr/bin/python3 -m mo --framework=onnx --data_type=FP16 --output_dir=/content/public/aclnet/FP16 --model_name=aclnet '--input_shape=[1,1,1,16000]' --input=input --output=output --input_model=/content/public/aclnet/aclnet_des_53.onnx\n",
            "\n",
            "Model Optimizer arguments:\n",
            "Common parameters:\n",
            "\t- Path to the Input Model: \t/content/public/aclnet/aclnet_des_53.onnx\n",
            "\t- Path for generated IR: \t/content/public/aclnet/FP16\n",
            "\t- IR output name: \taclnet\n",
            "\t- Log level: \tERROR\n",
            "\t- Batch: \tNot specified, inherited from the model\n",
            "\t- Input layers: \tinput\n",
            "\t- Output layers: \toutput\n",
            "\t- Input shapes: \t[1,1,1,16000]\n",
            "\t- Mean values: \tNot specified\n",
            "\t- Scale values: \tNot specified\n",
            "\t- Scale factor: \tNot specified\n",
            "\t- Precision of IR: \tFP16\n",
            "\t- Enable fusing: \tTrue\n",
            "\t- Enable grouped convolutions fusing: \tTrue\n",
            "\t- Move mean values to preprocess section: \tNone\n",
            "\t- Reverse input channels: \tFalse\n",
            "ONNX specific parameters:\n",
            "\t- Inference Engine found in: \t/opt/intel/openvino_2021/python/python3.7/openvino\n",
            "Inference Engine version: \t2021.4.2-3974-e2a469a3450-releases/2021/4\n",
            "Model Optimizer version: \t2021.4.2-3974-e2a469a3450-releases/2021/4\n",
            "[ WARNING ]  \n",
            "Detected not satisfied dependencies:\n",
            "\tnumpy: installed: 1.21.6, required: < 1.20\n",
            "\trequests: installed: 2.23.0, required: >= 2.25.1\n",
            "\n",
            "Please install required versions of components or use install_prerequisites script\n",
            "/opt/intel/openvino_2021.4.752/deployment_tools/model_optimizer/install_prerequisites/install_prerequisites_onnx.sh\n",
            "Note that install_prerequisites scripts may install additional components.\n",
            "/opt/intel/openvino_2021/deployment_tools/model_optimizer/extensions/analysis/boolean_input.py:13: DeprecationWarning: `np.bool` is a deprecated alias for the builtin `bool`. To silence this warning, use `bool` by itself. Doing this will not modify any behavior and is safe. If you specifically wanted the numpy scalar type, use `np.bool_` here.\n",
            "Deprecated in NumPy 1.20; for more details and guidance: https://numpy.org/devdocs/release/1.20.0-notes.html#deprecations\n",
            "  nodes = graph.get_op_nodes(op='Parameter', data_type=np.bool)\n",
            "/opt/intel/openvino_2021/deployment_tools/model_optimizer/extensions/ops/ReduceOps.py:53: DeprecationWarning: `np.bool` is a deprecated alias for the builtin `bool`. To silence this warning, use `bool` by itself. Doing this will not modify any behavior and is safe. If you specifically wanted the numpy scalar type, use `np.bool_` here.\n",
            "Deprecated in NumPy 1.20; for more details and guidance: https://numpy.org/devdocs/release/1.20.0-notes.html#deprecations\n",
            "  used_dims = np.zeros(len(in_shape), dtype=np.bool)\n",
            "/opt/intel/openvino_2021/deployment_tools/model_optimizer/mo/front/common/partial_infer/concat.py:36: DeprecationWarning: `np.bool` is a deprecated alias for the builtin `bool`. To silence this warning, use `bool` by itself. Doing this will not modify any behavior and is safe. If you specifically wanted the numpy scalar type, use `np.bool_` here.\n",
            "Deprecated in NumPy 1.20; for more details and guidance: https://numpy.org/devdocs/release/1.20.0-notes.html#deprecations\n",
            "  mask = np.zeros_like(shape, dtype=np.bool)\n",
            "[ SUCCESS ] Generated IR version 10 model.\n",
            "[ SUCCESS ] XML file: /content/public/aclnet/FP16/aclnet.xml\n",
            "[ SUCCESS ] BIN file: /content/public/aclnet/FP16/aclnet.bin\n",
            "[ SUCCESS ] Total execution time: 7.51 seconds. \n",
            "[ SUCCESS ] Memory consumed: 134 MB. \n",
            "It's been a while, check for a new version of Intel(R) Distribution of OpenVINO(TM) toolkit here https://software.intel.com/content/www/us/en/develop/tools/openvino-toolkit/download.html?cid=other&source=prod&campid=ww_2022_bu_IOTG_OpenVINO-2022-1&content=upg_all&medium=organic or on the GitHub*\n",
            "\n",
            "========== Converting aclnet to IR (FP32)\n",
            "Conversion command: /usr/bin/python3 -m mo --framework=onnx --data_type=FP32 --output_dir=/content/public/aclnet/FP32 --model_name=aclnet '--input_shape=[1,1,1,16000]' --input=input --output=output --input_model=/content/public/aclnet/aclnet_des_53.onnx\n",
            "\n",
            "Model Optimizer arguments:\n",
            "Common parameters:\n",
            "\t- Path to the Input Model: \t/content/public/aclnet/aclnet_des_53.onnx\n",
            "\t- Path for generated IR: \t/content/public/aclnet/FP32\n",
            "\t- IR output name: \taclnet\n",
            "\t- Log level: \tERROR\n",
            "\t- Batch: \tNot specified, inherited from the model\n",
            "\t- Input layers: \tinput\n",
            "\t- Output layers: \toutput\n",
            "\t- Input shapes: \t[1,1,1,16000]\n",
            "\t- Mean values: \tNot specified\n",
            "\t- Scale values: \tNot specified\n",
            "\t- Scale factor: \tNot specified\n",
            "\t- Precision of IR: \tFP32\n",
            "\t- Enable fusing: \tTrue\n",
            "\t- Enable grouped convolutions fusing: \tTrue\n",
            "\t- Move mean values to preprocess section: \tNone\n",
            "\t- Reverse input channels: \tFalse\n",
            "ONNX specific parameters:\n",
            "\t- Inference Engine found in: \t/opt/intel/openvino_2021/python/python3.7/openvino\n",
            "Inference Engine version: \t2021.4.2-3974-e2a469a3450-releases/2021/4\n",
            "Model Optimizer version: \t2021.4.2-3974-e2a469a3450-releases/2021/4\n",
            "[ WARNING ]  \n",
            "Detected not satisfied dependencies:\n",
            "\tnumpy: installed: 1.21.6, required: < 1.20\n",
            "\trequests: installed: 2.23.0, required: >= 2.25.1\n",
            "\n",
            "Please install required versions of components or use install_prerequisites script\n",
            "/opt/intel/openvino_2021.4.752/deployment_tools/model_optimizer/install_prerequisites/install_prerequisites_onnx.sh\n",
            "Note that install_prerequisites scripts may install additional components.\n",
            "/opt/intel/openvino_2021/deployment_tools/model_optimizer/extensions/analysis/boolean_input.py:13: DeprecationWarning: `np.bool` is a deprecated alias for the builtin `bool`. To silence this warning, use `bool` by itself. Doing this will not modify any behavior and is safe. If you specifically wanted the numpy scalar type, use `np.bool_` here.\n",
            "Deprecated in NumPy 1.20; for more details and guidance: https://numpy.org/devdocs/release/1.20.0-notes.html#deprecations\n",
            "  nodes = graph.get_op_nodes(op='Parameter', data_type=np.bool)\n",
            "/opt/intel/openvino_2021/deployment_tools/model_optimizer/extensions/ops/ReduceOps.py:53: DeprecationWarning: `np.bool` is a deprecated alias for the builtin `bool`. To silence this warning, use `bool` by itself. Doing this will not modify any behavior and is safe. If you specifically wanted the numpy scalar type, use `np.bool_` here.\n",
            "Deprecated in NumPy 1.20; for more details and guidance: https://numpy.org/devdocs/release/1.20.0-notes.html#deprecations\n",
            "  used_dims = np.zeros(len(in_shape), dtype=np.bool)\n",
            "/opt/intel/openvino_2021/deployment_tools/model_optimizer/mo/front/common/partial_infer/concat.py:36: DeprecationWarning: `np.bool` is a deprecated alias for the builtin `bool`. To silence this warning, use `bool` by itself. Doing this will not modify any behavior and is safe. If you specifically wanted the numpy scalar type, use `np.bool_` here.\n",
            "Deprecated in NumPy 1.20; for more details and guidance: https://numpy.org/devdocs/release/1.20.0-notes.html#deprecations\n",
            "  mask = np.zeros_like(shape, dtype=np.bool)\n",
            "[ SUCCESS ] Generated IR version 10 model.\n",
            "[ SUCCESS ] XML file: /content/public/aclnet/FP32/aclnet.xml\n",
            "[ SUCCESS ] BIN file: /content/public/aclnet/FP32/aclnet.bin\n",
            "[ SUCCESS ] Total execution time: 7.06 seconds. \n",
            "[ SUCCESS ] Memory consumed: 137 MB. \n",
            "It's been a while, check for a new version of Intel(R) Distribution of OpenVINO(TM) toolkit here https://software.intel.com/content/www/us/en/develop/tools/openvino-toolkit/download.html?cid=other&source=prod&campid=ww_2022_bu_IOTG_OpenVINO-2022-1&content=upg_all&medium=organic or on the GitHub*\n",
            "\n",
            "aclnet_des_53.onnx  FP16  FP32\n",
            "aclnet.bin  aclnet.mapping  aclnet.xml\n"
          ]
        }
      ]
    },
    {
      "cell_type": "markdown",
      "metadata": {
        "id": "skAFK2eW0QEB"
      },
      "source": [
        "為更清楚了解範例程式可支援的模型，可將models.lst及使用方式列出來確認。（此步驟可忽略）"
      ]
    },
    {
      "cell_type": "code",
      "metadata": {
        "id": "Pp56Rk6S0QS4",
        "colab": {
          "base_uri": "https://localhost:8080/"
        },
        "outputId": "693520c3-676e-4d69-a3a8-a7bcd929b76b"
      },
      "source": [
        "# 列出可支援的模型名稱\n",
        "!cat /opt/intel/openvino_2021/inference_engine/demos/sound_classification_demo/python/models.lst"
      ],
      "execution_count": 4,
      "outputs": [
        {
          "output_type": "stream",
          "name": "stdout",
          "text": [
            "# This file can be used with the --list option of the model downloader.\n",
            "aclnet\n",
            "aclnet-int8\n"
          ]
        }
      ]
    },
    {
      "cell_type": "markdown",
      "metadata": {
        "id": "_IvkK2cg0knK"
      },
      "source": [
        "#4.準備測試聲音檔案  \n",
        "\n",
        "從Github下載測試聲音樣本(青蛙叫聲 1-17970-A-4_Flog.wav, 公雞叫聲 1-27724-A-1_Rooster.wav, 狗叫聲1-30344-A-0_Dog.wav)  \n",
        "假設要使用Github dataset下的青蛙叫的聲音樣本 https://github.com/OmniXRI/NTUST_EdgeAI_2022/blob/main/Ch7_Implementations/Dataset/1-17970-A-4_Flog.wav  \n",
        "則須修改名稱才能順利下載，主要是將github.com變成raw.githubusercontent.com，把/blob/main改成master路徑名稱，其它子路徑保留。  \n",
        " https://raw.githubusercontent.com/OmniXRI/NTUST_EdgeAI_2022/master/Ch7_Implementations/Dataset/1-17970-A-4_Flog.wav  \n",
        "另外兩種聲音測試檔案依此類推下載。  \n",
        "資料來源：公開資料集 ESC-50 https://github.com/karolpiczak/ESC-50  "
      ]
    },
    {
      "cell_type": "code",
      "metadata": {
        "id": "A3m2U1l10kv5",
        "colab": {
          "base_uri": "https://localhost:8080/"
        },
        "outputId": "90a2db6d-7a81-4636-ab39-f013290fcb52"
      },
      "source": [
        "# 下載測試聲音檔\n",
        "!wget -N https://raw.githubusercontent.com/OmniXRI/NTUST_EdgeAI_2022/master/Ch7_Implementations/Dataset/1-17970-A-4_Flog.wav\n",
        "!ls *.wav"
      ],
      "execution_count": 5,
      "outputs": [
        {
          "output_type": "stream",
          "name": "stdout",
          "text": [
            "--2022-05-24 15:15:31--  https://raw.githubusercontent.com/OmniXRI/NTUST_EdgeAI_2022/master/Ch7_Implementations/Dataset/1-17970-A-4_Flog.wav\n",
            "Resolving raw.githubusercontent.com (raw.githubusercontent.com)... 185.199.108.133, 185.199.109.133, 185.199.110.133, ...\n",
            "Connecting to raw.githubusercontent.com (raw.githubusercontent.com)|185.199.108.133|:443... connected.\n",
            "HTTP request sent, awaiting response... 200 OK\n",
            "Length: 441044 (431K) [audio/wav]\n",
            "Saving to: ‘1-17970-A-4_Flog.wav’\n",
            "\n",
            "1-17970-A-4_Flog.wa 100%[===================>] 430.71K  --.-KB/s    in 0.005s  \n",
            "\n",
            "Last-modified header missing -- time-stamps turned off.\n",
            "2022-05-24 15:15:31 (78.9 MB/s) - ‘1-17970-A-4_Flog.wav’ saved [441044/441044]\n",
            "\n",
            "1-17970-A-4_Flog.wav\n"
          ]
        }
      ]
    },
    {
      "cell_type": "markdown",
      "metadata": {
        "id": "ogvzyUZW2R0I"
      },
      "source": [
        "#5.進行推論\n",
        "\n",
        "聲音辨識範例程式 sound_classification_demo.py  \n",
        "\n",
        "輸入參數：  \n",
        "-i 輸入聲音檔案(*.wav)  \n",
        "-m 模型路徑(*.xml)  \n",
        "--labels 聲音標籤檔(*.txt)，這裡使用OpenVINO內建aclnet_53cl.txt  \n",
        "-d 推論裝置(在Colab只能選CPU）  \n",
        "--sample_rate 16000 聲音取樣頻率（預設16KHz)  \n",
        "\n",
        "最後顯示推論結果，會自動將輸入聲音檔案切成一秒一段再進行辨識。  "
      ]
    },
    {
      "cell_type": "code",
      "metadata": {
        "id": "kaaLCDjy2R9s",
        "colab": {
          "base_uri": "https://localhost:8080/"
        },
        "outputId": "440bd98b-e823-4178-c740-ab61b5a159d1"
      },
      "source": [
        "# 進行聲音辨識推論\n",
        "!source /opt/intel/openvino_2021/bin/setupvars.sh && \\\n",
        "python3 \\\n",
        "/opt/intel/openvino_2021/deployment_tools/inference_engine/demos/sound_classification_demo/python/sound_classification_demo.py \\\n",
        "-i 1-17970-A-4_Flog.wav \\\n",
        "-m public/aclnet/FP32/aclnet.xml \\\n",
        "--labels /opt/intel/openvino_2021/deployment_tools/open_model_zoo/data/dataset_classes/aclnet_53cl.txt \\\n",
        "--sample_rate 16000"
      ],
      "execution_count": 6,
      "outputs": [
        {
          "output_type": "stream",
          "name": "stdout",
          "text": [
            "[setupvars.sh] OpenVINO environment initialized\n",
            "[ INFO ] Creating Inference Engine\n",
            "[ INFO ] Loading model public/aclnet/FP32/aclnet.xml\n",
            "[ INFO ] Loading model to the plugin\n",
            "[ INFO ] Preparing input\n",
            "[ INFO ] Starting inference\n",
            "[ INFO ] [0.00-1.00] - 100.00% Frog\n",
            "[ INFO ] [1.00-2.00] - 99.97% Frog\n",
            "[ INFO ] [2.00-3.00] - 100.00% Frog\n",
            "[ INFO ] [3.00-4.00] - 74.30% Dog\n",
            "[ INFO ] [4.00-5.00] - 100.00% Frog\n",
            "[ INFO ] Average infer time - 42.6 ms per clip\n"
          ]
        }
      ]
    },
    {
      "cell_type": "markdown",
      "metadata": {
        "id": "0tsDn_l22e4h"
      },
      "source": [
        "列出聲音標籤檔內容，共53類，較ESC-50公開資料集多了最後三類。(本步驟可略過)"
      ]
    },
    {
      "cell_type": "code",
      "metadata": {
        "id": "Z4Eq_U1l2fE3",
        "colab": {
          "base_uri": "https://localhost:8080/"
        },
        "outputId": "c7f8450f-7649-49b2-a0f0-e2fe88ca3aeb"
      },
      "source": [
        "!cat /opt/intel/openvino_2021/deployment_tools/open_model_zoo/data/dataset_classes/aclnet_53cl.txt"
      ],
      "execution_count": 7,
      "outputs": [
        {
          "output_type": "stream",
          "name": "stdout",
          "text": [
            "Dog\n",
            "Rooster\n",
            "Pig\n",
            "Cow\n",
            "Frog\n",
            "Cat\n",
            "Hen\n",
            "Insects (flying)\n",
            "Sheep\n",
            "Crow\n",
            "Rain\n",
            "Sea waves\n",
            "Crackling fire\n",
            "Crickets\n",
            "Chirping birds\n",
            "Water drops\n",
            "Wind\n",
            "Pouring water\n",
            "Toilet flush\n",
            "Thunderstorm\n",
            "Crying baby\n",
            "Sneezing\n",
            "Clapping\n",
            "Breathing\n",
            "Coughing\n",
            "Footsteps\n",
            "Laughing\n",
            "Brushing teeth\n",
            "Snoring\n",
            "Drinking sipping\n",
            "Door knock\n",
            "Mouse click\n",
            "Keyboard typing\n",
            "Door wood creaks\n",
            "Can opening\n",
            "Washing machine\n",
            "Vacuum cleaner\n",
            "Clock alarm\n",
            "Clock tick\n",
            "Glass breaking\n",
            "Helicopter\n",
            "Chainsaw\n",
            "Siren\n",
            "Car horn\n",
            "Engine\n",
            "Train\n",
            "Church bells\n",
            "Airplane\n",
            "Fireworks\n",
            "Hand saw\n",
            "Gunshot\n",
            "Crowd\n",
            "Speech\n"
          ]
        }
      ]
    }
  ]
}