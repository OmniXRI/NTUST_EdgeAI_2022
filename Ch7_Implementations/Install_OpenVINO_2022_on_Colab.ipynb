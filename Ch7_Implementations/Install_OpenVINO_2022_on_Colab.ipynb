{
  "nbformat": 4,
  "nbformat_minor": 0,
  "metadata": {
    "colab": {
      "name": "Install OpenVINO 2022 on Colab.ipynb",
      "provenance": [],
      "collapsed_sections": []
    },
    "kernelspec": {
      "name": "python3",
      "display_name": "Python 3"
    },
    "language_info": {
      "name": "python"
    }
  },
  "cells": [
    {
      "cell_type": "markdown",
      "source": [
        "# 安裝OpenVINO 2022版在Colab上\n",
        "\n",
        "OpenVINO可支援APT方式安裝（如下參考資料來源），但在Colab上須略微調整，包括  \n",
        "1.   去掉sudo\n",
        "2.   指定對應Ubuntu版本將下載指令加入安裝清單中\n",
        "3.   加入清單方式從tee改成 >>\n",
        "\n",
        "本範例僅限OpenVINO 2022.x.x版，2021相版本安裝請參考  \n",
        "https://colab.research.google.com/github/OmniXRI/NTUST_EdgeAI_2022/blob/main/Ch7_Implementations/Install_OpenVINO_2021_on_Colab.ipynb  \n",
        "\n",
        "參考資料來源：https://docs.openvino.ai/latest/openvino_docs_install_guides_installing_openvino_apt.html  \n",
        "歐尼克斯實境互動工作室 OmniXRI Jack, 2022.04.29 整理製作"
      ],
      "metadata": {
        "id": "fULAj7k9aWVB"
      }
    },
    {
      "cell_type": "code",
      "source": [
        "# 查詢系統Ubuntu版本(Colab預設為 Ubuntu 18.04.5 LTS，本步驟可略過)\n",
        "!lsb_release -a "
      ],
      "metadata": {
        "colab": {
          "base_uri": "https://localhost:8080/"
        },
        "id": "UJSTDZaQdY_-",
        "outputId": "0d14e802-38ee-4e8c-ebc6-1e64955d8192"
      },
      "execution_count": null,
      "outputs": [
        {
          "output_type": "stream",
          "name": "stdout",
          "text": [
            "No LSB modules are available.\n",
            "Distributor ID:\tUbuntu\n",
            "Description:\tUbuntu 18.04.5 LTS\n",
            "Release:\t18.04\n",
            "Codename:\tbionic\n"
          ]
        }
      ]
    },
    {
      "cell_type": "code",
      "execution_count": null,
      "metadata": {
        "colab": {
          "base_uri": "https://localhost:8080/"
        },
        "id": "Op77etdSaI7C",
        "outputId": "8843b3b4-9925-4500-d325-5632f67d9ba2"
      },
      "outputs": [
        {
          "output_type": "stream",
          "name": "stdout",
          "text": [
            "--2022-04-28 18:49:39--  https://apt.repos.intel.com/intel-gpg-keys/GPG-PUB-KEY-INTEL-SW-PRODUCTS.PUB\n",
            "Resolving apt.repos.intel.com (apt.repos.intel.com)... 104.115.155.51, 2600:1405:800:189::4b23, 2600:1405:800:19c::4b23\n",
            "Connecting to apt.repos.intel.com (apt.repos.intel.com)|104.115.155.51|:443... connected.\n",
            "HTTP request sent, awaiting response... 200 OK\n",
            "Length: 3796 (3.7K) [binary/octet-stream]\n",
            "Saving to: ‘GPG-PUB-KEY-INTEL-SW-PRODUCTS.PUB’\n",
            "\n",
            "\r          GPG-PUB-K   0%[                    ]       0  --.-KB/s               \rGPG-PUB-KEY-INTEL-S 100%[===================>]   3.71K  --.-KB/s    in 0s      \n",
            "\n",
            "2022-04-28 18:49:39 (370 MB/s) - ‘GPG-PUB-KEY-INTEL-SW-PRODUCTS.PUB’ saved [3796/3796]\n",
            "\n",
            "OK\n",
            "OK\n",
            "Get:1 https://developer.download.nvidia.com/compute/cuda/repos/ubuntu1804/x86_64  InRelease [1,575 B]\n",
            "Get:2 https://apt.repos.intel.com/openvino/2022 bionic InRelease [5,532 B]\n",
            "Ign:3 https://developer.download.nvidia.com/compute/machine-learning/repos/ubuntu1804/x86_64  InRelease\n",
            "Get:4 https://cloud.r-project.org/bin/linux/ubuntu bionic-cran40/ InRelease [3,626 B]\n",
            "Hit:5 https://developer.download.nvidia.com/compute/machine-learning/repos/ubuntu1804/x86_64  Release\n",
            "Err:1 https://developer.download.nvidia.com/compute/cuda/repos/ubuntu1804/x86_64  InRelease\n",
            "  The following signatures couldn't be verified because the public key is not available: NO_PUBKEY A4B469963BF863CC\n",
            "Get:6 http://security.ubuntu.com/ubuntu bionic-security InRelease [88.7 kB]\n",
            "Hit:7 http://archive.ubuntu.com/ubuntu bionic InRelease\n",
            "Hit:8 http://ppa.launchpad.net/c2d4u.team/c2d4u4.0+/ubuntu bionic InRelease\n",
            "Get:9 http://archive.ubuntu.com/ubuntu bionic-updates InRelease [88.7 kB]\n",
            "Get:10 https://cloud.r-project.org/bin/linux/ubuntu bionic-cran40/ Packages [84.5 kB]\n",
            "Hit:11 http://ppa.launchpad.net/cran/libgit2/ubuntu bionic InRelease\n",
            "Get:13 https://apt.repos.intel.com/openvino/2022 bionic/main amd64 Packages [2,828 B]\n",
            "Hit:14 http://ppa.launchpad.net/deadsnakes/ppa/ubuntu bionic InRelease\n",
            "Get:15 http://archive.ubuntu.com/ubuntu bionic-backports InRelease [74.6 kB]\n",
            "Hit:16 http://ppa.launchpad.net/graphics-drivers/ppa/ubuntu bionic InRelease\n",
            "Get:17 http://security.ubuntu.com/ubuntu bionic-security/main amd64 Packages [2,733 kB]\n",
            "Get:18 http://archive.ubuntu.com/ubuntu bionic-updates/restricted amd64 Packages [942 kB]\n",
            "Get:19 http://archive.ubuntu.com/ubuntu bionic-updates/universe amd64 Packages [2,272 kB]\n",
            "Get:20 http://security.ubuntu.com/ubuntu bionic-security/universe amd64 Packages [1,496 kB]\n",
            "Get:21 http://security.ubuntu.com/ubuntu bionic-security/restricted amd64 Packages [909 kB]\n",
            "Get:22 http://archive.ubuntu.com/ubuntu bionic-updates/main amd64 Packages [3,167 kB]\n",
            "Reading package lists... Done\n",
            "W: GPG error: https://developer.download.nvidia.com/compute/cuda/repos/ubuntu1804/x86_64  InRelease: The following signatures couldn't be verified because the public key is not available: NO_PUBKEY A4B469963BF863CC\n",
            "E: The repository 'https://developer.download.nvidia.com/compute/cuda/repos/ubuntu1804/x86_64  InRelease' is no longer signed.\n",
            "N: Updating from such a repository can't be done securely, and is therefore disabled by default.\n",
            "N: See apt-secure(8) manpage for repository creation and user configuration details.\n"
          ]
        }
      ],
      "source": [
        "# 取得OpenVINO公開金錀\n",
        "!wget https://apt.repos.intel.com/intel-gpg-keys/GPG-PUB-KEY-INTEL-SW-PRODUCTS.PUB \n",
        "# 加入OpenVINO公開金錀到系統金錀群中\n",
        "!apt-key add GPG-PUB-KEY-INTEL-SW-PRODUCTS.PUB \n",
        "# 將下載指令加入安裝清單中 （for Ubuntu 2018)\n",
        "!echo \"deb https://apt.repos.intel.com/openvino/2022 bionic main\" >> /etc/apt/sources.list.d/intel-openvino-2022.list\n",
        "# 將下載指令加入安裝清單中 （for Ubuntu 2020)\n",
        "#!echo \"deb https://apt.repos.intel.com/openvino/2022 focal main\" >> /etc/apt/sources.list.d/intel-openvino-2022.list\n",
        "# 建立更新安裝清單檔案\n",
        "!apt-key add GPG-PUB-KEY-INTEL-SW-PRODUCTS.PUB \n",
        "# 更新系統\n",
        "!apt update "
      ]
    },
    {
      "cell_type": "code",
      "source": [
        "# 查詢可使用OpenVINO版本（本動作為檢查可用版本，本步驟可略過）\n",
        "!apt-cache search openvino "
      ],
      "metadata": {
        "colab": {
          "base_uri": "https://localhost:8080/"
        },
        "id": "AS7wD_sHaa4i",
        "outputId": "e7f5d8cc-55d3-4187-fd36-53689139314e"
      },
      "execution_count": null,
      "outputs": [
        {
          "output_type": "stream",
          "name": "stdout",
          "text": [
            "libopenvino-2022.1.0 - Intel(R) Distribution of OpenVINO(TM) Toolkit Runtime\n",
            "libopenvino-dev-2022.1.0 - Intel(R) Distribution of OpenVINO(TM) Toolkit Developer Tools\n",
            "openvino-libraries-dev-2022.1.0 - Intel(R) Distribution of OpenVINO(TM) Toolkit Libraries and Developer tools\n",
            "openvino-opencv - OpenCV for OpenVINO(TM) toolkit\n",
            "libopenvino-auto-plugin-2022.1.0 - Inference Engine Auto plugin\n",
            "libopenvino-intel-gpu-plugin-2022.1.0 - Intel® Processor Graphics\n",
            "libopenvino-intel-vpu-plugin-2022.1.0 - Intel® Movidius™ VPU\n",
            "openvino-2022.1.0 - Intel(R) Distribution of OpenVINO(TM) Toolkit\n",
            "libopenvino-hetero-plugin-2022.1.0 - Inference Engine Runtime for Intel® Gaussian Neural Accelerator\n",
            "libopenvino-intel-hddl-plugin-2022.1.0 - Intel® Vision Accelerator Design with Intel® Movidius VPUs\n",
            "openvino-libraries-dev - Intel(R) Distribution of OpenVINO(TM) Toolkit Libraries and Developer tools\n",
            "openvino-opencv-2022.1.0 - OpenCV for OpenVINO(TM) toolkit\n",
            "libopenvino-auto-batch-plugin-2022.1.0 - Inference Engine Automatic Batching plugin\n",
            "libopenvino-python-2022.1.0 - Inference Engine Python API\n",
            "openvino-libraries - Intel(R) Distribution of OpenVINO(TM) Toolkit Libraries\n",
            "openvino-samples-2022.1.0 - Intel(R) Distribution of OpenVINO(TM) Toolkit Samples\n",
            "libopenvino-intel-cpu-plugin-2022.1.0 - Intel® CPU\n",
            "libopenvino-intel-gna-plugin-2022.1.0 - Intel® Gaussian Neural Accelerator\n",
            "openvino - Intel(R) Distribution of OpenVINO(TM) Toolkit\n",
            "openvino-libraries-2022.1.0 - Intel(R) Distribution of OpenVINO(TM) Toolkit Libraries\n"
          ]
        }
      ]
    },
    {
      "cell_type": "code",
      "source": [
        "# 或者安裝指定版本OpenVINO (例如 2022.1.0)\n",
        "!apt install openvino-libraries-dev-2022.1.0"
      ],
      "metadata": {
        "colab": {
          "base_uri": "https://localhost:8080/"
        },
        "id": "D0laxpm3ac3H",
        "outputId": "c1c40e98-ac1b-4db3-abd4-fbbdf9e6ec6f"
      },
      "execution_count": null,
      "outputs": [
        {
          "output_type": "stream",
          "name": "stdout",
          "text": [
            "Reading package lists... Done\n",
            "Building dependency tree       \n",
            "Reading state information... Done\n",
            "The following additional packages will be installed:\n",
            "  libopenvino-2022.1.0 libopenvino-auto-batch-plugin-2022.1.0\n",
            "  libopenvino-auto-plugin-2022.1.0 libopenvino-dev-2022.1.0\n",
            "  libopenvino-hetero-plugin-2022.1.0 libopenvino-intel-cpu-plugin-2022.1.0\n",
            "  libopenvino-intel-gna-plugin-2022.1.0 libopenvino-intel-gpu-plugin-2022.1.0\n",
            "  libopenvino-intel-hddl-plugin-2022.1.0 libopenvino-intel-vpu-plugin-2022.1.0\n",
            "  libopenvino-python-2022.1.0 openvino-2022.1.0 openvino-libraries-2022.1.0\n",
            "  openvino-libraries-dev-2022.1.0 openvino-samples-2022.1.0\n",
            "The following NEW packages will be installed:\n",
            "  libopenvino-2022.1.0 libopenvino-auto-batch-plugin-2022.1.0\n",
            "  libopenvino-auto-plugin-2022.1.0 libopenvino-dev-2022.1.0\n",
            "  libopenvino-hetero-plugin-2022.1.0 libopenvino-intel-cpu-plugin-2022.1.0\n",
            "  libopenvino-intel-gna-plugin-2022.1.0 libopenvino-intel-gpu-plugin-2022.1.0\n",
            "  libopenvino-intel-hddl-plugin-2022.1.0 libopenvino-intel-vpu-plugin-2022.1.0\n",
            "  libopenvino-python-2022.1.0 openvino openvino-2022.1.0\n",
            "  openvino-libraries-2022.1.0 openvino-libraries-dev-2022.1.0\n",
            "  openvino-samples-2022.1.0\n",
            "0 upgraded, 16 newly installed, 0 to remove and 52 not upgraded.\n",
            "Need to get 56.7 MB of archives.\n",
            "After this operation, 231 MB of additional disk space will be used.\n",
            "Get:1 https://apt.repos.intel.com/openvino/2022 bionic/main amd64 libopenvino-2022.1.0 amd64 2022.1.0-643 [5,386 kB]\n",
            "Get:2 https://apt.repos.intel.com/openvino/2022 bionic/main amd64 libopenvino-auto-batch-plugin-2022.1.0 amd64 2022.1.0-643 [87.6 kB]\n",
            "Get:3 https://apt.repos.intel.com/openvino/2022 bionic/main amd64 libopenvino-auto-plugin-2022.1.0 amd64 2022.1.0-643 [111 kB]\n",
            "Get:4 https://apt.repos.intel.com/openvino/2022 bionic/main amd64 libopenvino-dev-2022.1.0 amd64 2022.1.0-643 [599 kB]\n",
            "Get:5 https://apt.repos.intel.com/openvino/2022 bionic/main amd64 libopenvino-hetero-plugin-2022.1.0 amd64 2022.1.0-643 [109 kB]\n",
            "Get:6 https://apt.repos.intel.com/openvino/2022 bionic/main amd64 libopenvino-intel-cpu-plugin-2022.1.0 amd64 2022.1.0-643 [5,670 kB]\n",
            "Get:7 https://apt.repos.intel.com/openvino/2022 bionic/main amd64 libopenvino-intel-gna-plugin-2022.1.0 amd64 2022.1.0-643 [1,711 kB]\n",
            "Get:8 https://apt.repos.intel.com/openvino/2022 bionic/main amd64 libopenvino-intel-gpu-plugin-2022.1.0 amd64 2022.1.0-643 [4,321 kB]\n",
            "Get:9 https://apt.repos.intel.com/openvino/2022 bionic/main amd64 libopenvino-intel-hddl-plugin-2022.1.0 amd64 2022.1.0-643 [3,544 kB]\n",
            "Get:10 https://apt.repos.intel.com/openvino/2022 bionic/main amd64 libopenvino-intel-vpu-plugin-2022.1.0 amd64 2022.1.0-643 [21.9 MB]\n",
            "Get:11 https://apt.repos.intel.com/openvino/2022 bionic/main amd64 libopenvino-python-2022.1.0 amd64 2022.1.0-643 [2,888 kB]\n",
            "Get:12 https://apt.repos.intel.com/openvino/2022 bionic/main amd64 openvino-libraries-2022.1.0 amd64 2022.1.0-643 [1,708 B]\n",
            "Get:13 https://apt.repos.intel.com/openvino/2022 bionic/main amd64 openvino-libraries-dev-2022.1.0 amd64 2022.1.0-643 [1,682 B]\n",
            "Get:14 https://apt.repos.intel.com/openvino/2022 bionic/main amd64 openvino-samples-2022.1.0 amd64 2022.1.0-643 [10.4 MB]\n",
            "Get:15 https://apt.repos.intel.com/openvino/2022 bionic/main amd64 openvino-2022.1.0 amd64 2022.1.0-643 [1,676 B]\n",
            "Get:16 https://apt.repos.intel.com/openvino/2022 bionic/main amd64 openvino amd64 2022.1.0-643 [1,642 B]\n",
            "Fetched 56.7 MB in 8s (6,899 kB/s)\n",
            "Selecting previously unselected package libopenvino-2022.1.0.\n",
            "(Reading database ... 155514 files and directories currently installed.)\n",
            "Preparing to unpack .../00-libopenvino-2022.1.0_2022.1.0-643_amd64.deb ...\n",
            "Unpacking libopenvino-2022.1.0 (2022.1.0-643) ...\n",
            "Selecting previously unselected package libopenvino-auto-batch-plugin-2022.1.0.\n",
            "Preparing to unpack .../01-libopenvino-auto-batch-plugin-2022.1.0_2022.1.0-643_amd64.deb ...\n",
            "Unpacking libopenvino-auto-batch-plugin-2022.1.0 (2022.1.0-643) ...\n",
            "Selecting previously unselected package libopenvino-auto-plugin-2022.1.0.\n",
            "Preparing to unpack .../02-libopenvino-auto-plugin-2022.1.0_2022.1.0-643_amd64.deb ...\n",
            "Unpacking libopenvino-auto-plugin-2022.1.0 (2022.1.0-643) ...\n",
            "Selecting previously unselected package libopenvino-dev-2022.1.0.\n",
            "Preparing to unpack .../03-libopenvino-dev-2022.1.0_2022.1.0-643_amd64.deb ...\n",
            "Unpacking libopenvino-dev-2022.1.0 (2022.1.0-643) ...\n",
            "Selecting previously unselected package libopenvino-hetero-plugin-2022.1.0.\n",
            "Preparing to unpack .../04-libopenvino-hetero-plugin-2022.1.0_2022.1.0-643_amd64.deb ...\n",
            "Unpacking libopenvino-hetero-plugin-2022.1.0 (2022.1.0-643) ...\n",
            "Selecting previously unselected package libopenvino-intel-cpu-plugin-2022.1.0.\n",
            "Preparing to unpack .../05-libopenvino-intel-cpu-plugin-2022.1.0_2022.1.0-643_amd64.deb ...\n",
            "Unpacking libopenvino-intel-cpu-plugin-2022.1.0 (2022.1.0-643) ...\n",
            "Selecting previously unselected package libopenvino-intel-gna-plugin-2022.1.0.\n",
            "Preparing to unpack .../06-libopenvino-intel-gna-plugin-2022.1.0_2022.1.0-643_amd64.deb ...\n",
            "Unpacking libopenvino-intel-gna-plugin-2022.1.0 (2022.1.0-643) ...\n",
            "Selecting previously unselected package libopenvino-intel-gpu-plugin-2022.1.0.\n",
            "Preparing to unpack .../07-libopenvino-intel-gpu-plugin-2022.1.0_2022.1.0-643_amd64.deb ...\n",
            "Unpacking libopenvino-intel-gpu-plugin-2022.1.0 (2022.1.0-643) ...\n",
            "Selecting previously unselected package libopenvino-intel-hddl-plugin-2022.1.0.\n",
            "Preparing to unpack .../08-libopenvino-intel-hddl-plugin-2022.1.0_2022.1.0-643_amd64.deb ...\n",
            "Unpacking libopenvino-intel-hddl-plugin-2022.1.0 (2022.1.0-643) ...\n",
            "Selecting previously unselected package libopenvino-intel-vpu-plugin-2022.1.0.\n",
            "Preparing to unpack .../09-libopenvino-intel-vpu-plugin-2022.1.0_2022.1.0-643_amd64.deb ...\n",
            "Unpacking libopenvino-intel-vpu-plugin-2022.1.0 (2022.1.0-643) ...\n",
            "Selecting previously unselected package libopenvino-python-2022.1.0.\n",
            "Preparing to unpack .../10-libopenvino-python-2022.1.0_2022.1.0-643_amd64.deb ...\n",
            "Unpacking libopenvino-python-2022.1.0 (2022.1.0-643) ...\n",
            "Selecting previously unselected package openvino-libraries-2022.1.0.\n",
            "Preparing to unpack .../11-openvino-libraries-2022.1.0_2022.1.0-643_amd64.deb ...\n",
            "Unpacking openvino-libraries-2022.1.0 (2022.1.0-643) ...\n",
            "Selecting previously unselected package openvino-libraries-dev-2022.1.0.\n",
            "Preparing to unpack .../12-openvino-libraries-dev-2022.1.0_2022.1.0-643_amd64.deb ...\n",
            "Unpacking openvino-libraries-dev-2022.1.0 (2022.1.0-643) ...\n",
            "Selecting previously unselected package openvino-samples-2022.1.0.\n",
            "Preparing to unpack .../13-openvino-samples-2022.1.0_2022.1.0-643_amd64.deb ...\n",
            "Unpacking openvino-samples-2022.1.0 (2022.1.0-643) ...\n",
            "Selecting previously unselected package openvino-2022.1.0.\n",
            "Preparing to unpack .../14-openvino-2022.1.0_2022.1.0-643_amd64.deb ...\n",
            "Unpacking openvino-2022.1.0 (2022.1.0-643) ...\n",
            "Selecting previously unselected package openvino.\n",
            "Preparing to unpack .../15-openvino_2022.1.0-643_amd64.deb ...\n",
            "Unpacking openvino (2022.1.0-643) ...\n",
            "Setting up libopenvino-2022.1.0 (2022.1.0-643) ...\n",
            "Setting up libopenvino-auto-plugin-2022.1.0 (2022.1.0-643) ...\n",
            "Setting up libopenvino-dev-2022.1.0 (2022.1.0-643) ...\n",
            "Setting up libopenvino-python-2022.1.0 (2022.1.0-643) ...\n",
            "Setting up libopenvino-intel-hddl-plugin-2022.1.0 (2022.1.0-643) ...\n",
            "Setting up libopenvino-intel-gna-plugin-2022.1.0 (2022.1.0-643) ...\n",
            "Setting up libopenvino-auto-batch-plugin-2022.1.0 (2022.1.0-643) ...\n",
            "Setting up openvino-samples-2022.1.0 (2022.1.0-643) ...\n",
            "Setting up libopenvino-intel-cpu-plugin-2022.1.0 (2022.1.0-643) ...\n",
            "Setting up libopenvino-intel-vpu-plugin-2022.1.0 (2022.1.0-643) ...\n",
            "Setting up libopenvino-hetero-plugin-2022.1.0 (2022.1.0-643) ...\n",
            "Setting up libopenvino-intel-gpu-plugin-2022.1.0 (2022.1.0-643) ...\n",
            "Setting up openvino-libraries-2022.1.0 (2022.1.0-643) ...\n",
            "Setting up openvino-libraries-dev-2022.1.0 (2022.1.0-643) ...\n",
            "Setting up openvino-2022.1.0 (2022.1.0-643) ...\n",
            "Setting up openvino (2022.1.0-643) ...\n"
          ]
        }
      ]
    },
    {
      "cell_type": "code",
      "source": [
        "# 檢查OpenVINO是否已安裝到指定路徑，本步驟可略過\n",
        "!ls /opt/intel"
      ],
      "metadata": {
        "colab": {
          "base_uri": "https://localhost:8080/"
        },
        "id": "L5me3SOxg27K",
        "outputId": "fde0df5d-126b-47cf-ad91-954679824597"
      },
      "execution_count": null,
      "outputs": [
        {
          "output_type": "stream",
          "name": "stdout",
          "text": [
            "openvino_2022  openvino_2022.1.0.643\n"
          ]
        }
      ]
    }
  ]
}